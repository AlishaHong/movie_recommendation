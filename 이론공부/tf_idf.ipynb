{
 "cells": [
  {
   "cell_type": "code",
   "execution_count": 1,
   "metadata": {},
   "outputs": [],
   "source": [
    "import numpy as np\n",
    "from sklearn.feature_extraction.text import TfidfVectorizer\n",
    "from sklearn.metrics.pairwise import linear_kernel, cosine_similarity"
   ]
  },
  {
   "cell_type": "code",
   "execution_count": 3,
   "metadata": {},
   "outputs": [
    {
     "data": {
      "text/plain": [
       "<Compressed Sparse Row sparse matrix of dtype 'float64'\n",
       "\twith 56 stored elements and shape (5, 34)>"
      ]
     },
     "execution_count": 3,
     "metadata": {},
     "output_type": "execute_result"
    }
   ],
   "source": [
    "tf = TfidfVectorizer(analyzer = 'word', ngram_range = (1, 2), min_df = 0.0)\n",
    "\n",
    "list1 = ['I like apple and this monitor and this ground', 'I like this ground and this ground is 100m',\n",
    "        'I am looking this ground at the monitor', 'I am looking this ground at the television',\n",
    "        'pen pineapple apple pen']\n",
    "\n",
    "tfidf_matrix = tf.fit_transform(list1)\n",
    "tfidf_matrix"
   ]
  },
  {
   "cell_type": "code",
   "execution_count": 4,
   "metadata": {},
   "outputs": [
    {
     "data": {
      "text/plain": [
       "(array([0.        , 0.        , 0.        , 0.44642293, 0.44642293,\n",
       "        0.22321146, 0.27666486, 0.        , 0.        , 0.        ,\n",
       "        0.15586815, 0.        , 0.        , 0.        , 0.        ,\n",
       "        0.        , 0.22321146, 0.27666486, 0.        , 0.        ,\n",
       "        0.        , 0.22321146, 0.27666486, 0.        , 0.        ,\n",
       "        0.        , 0.        , 0.        , 0.        , 0.        ,\n",
       "        0.        , 0.31173631, 0.15586815, 0.27666486]),\n",
       " (34,))"
      ]
     },
     "execution_count": 4,
     "metadata": {},
     "output_type": "execute_result"
    }
   ],
   "source": [
    "tfidf_matrix.toarray()[0], tfidf_matrix.toarray()[0].shape"
   ]
  },
  {
   "cell_type": "code",
   "execution_count": 5,
   "metadata": {},
   "outputs": [
    {
     "data": {
      "text/plain": [
       "array([[1.        , 0.46739466, 0.19012271, 0.12296691, 0.0612277 ],\n",
       "       [0.46739466, 1.        , 0.19869546, 0.19439867, 0.        ],\n",
       "       [0.19012271, 0.19869546, 1.        , 0.77157306, 0.        ],\n",
       "       [0.12296691, 0.19439867, 0.77157306, 1.        , 0.        ],\n",
       "       [0.0612277 , 0.        , 0.        , 0.        , 1.        ]])"
      ]
     },
     "execution_count": 5,
     "metadata": {},
     "output_type": "execute_result"
    }
   ],
   "source": [
    "cosine_sim = linear_kernel(tfidf_matrix, tfidf_matrix)\n",
    "cosine_sim"
   ]
  },
  {
   "cell_type": "code",
   "execution_count": 9,
   "metadata": {},
   "outputs": [
    {
     "name": "stdout",
     "output_type": "stream",
     "text": [
      "I like apple and this monitor and this ground\n",
      "I like this ground and this ground is 100m\n"
     ]
    }
   ],
   "source": [
    "list(enumerate(cosine_sim[0]))\n",
    "# 0번째 문장은 1번째 문장과 가장 유사도가 깊다.\n",
    "\n",
    "print(list1[0])\n",
    "print(list1[1])"
   ]
  },
  {
   "cell_type": "code",
   "execution_count": 10,
   "metadata": {},
   "outputs": [
    {
     "name": "stdout",
     "output_type": "stream",
     "text": [
      "I am looking this ground at the monitor\n",
      "I am looking this ground at the television\n"
     ]
    }
   ],
   "source": [
    "list(enumerate(cosine_sim[2]))\n",
    "# 2번문장은 3번과 가장 비슷 \n",
    "\n",
    "print(list1[2])\n",
    "print(list1[3])"
   ]
  },
  {
   "cell_type": "code",
   "execution_count": null,
   "metadata": {},
   "outputs": [],
   "source": []
  }
 ],
 "metadata": {
  "kernelspec": {
   "display_name": "PythonEx",
   "language": "python",
   "name": "python3"
  },
  "language_info": {
   "codemirror_mode": {
    "name": "ipython",
    "version": 3
   },
   "file_extension": ".py",
   "mimetype": "text/x-python",
   "name": "python",
   "nbconvert_exporter": "python",
   "pygments_lexer": "ipython3",
   "version": "3.10.14"
  }
 },
 "nbformat": 4,
 "nbformat_minor": 2
}
