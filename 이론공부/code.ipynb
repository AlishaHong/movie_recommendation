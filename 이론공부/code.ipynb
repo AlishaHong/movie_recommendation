{
 "cells": [
  {
   "cell_type": "code",
   "execution_count": 69,
   "metadata": {},
   "outputs": [],
   "source": [
    "from sklearn.preprocessing import OneHotEncoder, StandardScaler, LabelEncoder\n",
    "from sklearn.feature_extraction.text import TfidfVectorizer\n",
    "import pandas as pd"
   ]
  },
  {
   "cell_type": "code",
   "execution_count": 70,
   "metadata": {},
   "outputs": [],
   "source": [
    "# 데이터 예시 (지역, 가격, 면적, 설명)\n",
    "data = {'지역': ['강남', '송파', '강북','강남'],\n",
    "        '가격': [300000, 250000, 200000,290000],\n",
    "        '면적': [85, 75, 65,80],\n",
    "        '설명': ['넓고 쾌적한 아파트', '교통이 편리한 지역', '저렴한 아파트','넓은 아파트']}\n",
    "\n",
    "df = pd.DataFrame(data)"
   ]
  },
  {
   "cell_type": "code",
   "execution_count": 71,
   "metadata": {},
   "outputs": [
    {
     "data": {
      "text/html": [
       "<div>\n",
       "<style scoped>\n",
       "    .dataframe tbody tr th:only-of-type {\n",
       "        vertical-align: middle;\n",
       "    }\n",
       "\n",
       "    .dataframe tbody tr th {\n",
       "        vertical-align: top;\n",
       "    }\n",
       "\n",
       "    .dataframe thead th {\n",
       "        text-align: right;\n",
       "    }\n",
       "</style>\n",
       "<table border=\"1\" class=\"dataframe\">\n",
       "  <thead>\n",
       "    <tr style=\"text-align: right;\">\n",
       "      <th></th>\n",
       "      <th>지역</th>\n",
       "      <th>가격</th>\n",
       "      <th>면적</th>\n",
       "      <th>설명</th>\n",
       "    </tr>\n",
       "  </thead>\n",
       "  <tbody>\n",
       "    <tr>\n",
       "      <th>0</th>\n",
       "      <td>강남</td>\n",
       "      <td>300000</td>\n",
       "      <td>85</td>\n",
       "      <td>넓고 쾌적한 아파트</td>\n",
       "    </tr>\n",
       "    <tr>\n",
       "      <th>1</th>\n",
       "      <td>송파</td>\n",
       "      <td>250000</td>\n",
       "      <td>75</td>\n",
       "      <td>교통이 편리한 지역</td>\n",
       "    </tr>\n",
       "    <tr>\n",
       "      <th>2</th>\n",
       "      <td>강북</td>\n",
       "      <td>200000</td>\n",
       "      <td>65</td>\n",
       "      <td>저렴한 아파트</td>\n",
       "    </tr>\n",
       "  </tbody>\n",
       "</table>\n",
       "</div>"
      ],
      "text/plain": [
       "   지역      가격  면적          설명\n",
       "0  강남  300000  85  넓고 쾌적한 아파트\n",
       "1  송파  250000  75  교통이 편리한 지역\n",
       "2  강북  200000  65     저렴한 아파트"
      ]
     },
     "execution_count": 71,
     "metadata": {},
     "output_type": "execute_result"
    }
   ],
   "source": [
    "df.head(3)"
   ]
  },
  {
   "cell_type": "code",
   "execution_count": 72,
   "metadata": {},
   "outputs": [],
   "source": [
    "# 1. 범주형 변수 (지역) 벡터화 (One-Hot Encoding)\n",
    "one_hot = OneHotEncoder()\n",
    "location_encoded1 = one_hot.fit_transform(df[['지역']]).toarray()\n",
    "# 레이블링 해도 되지 않을까 |"
   ]
  },
  {
   "cell_type": "code",
   "execution_count": 73,
   "metadata": {},
   "outputs": [
    {
     "data": {
      "text/plain": [
       "array([[1., 0., 0.],\n",
       "       [0., 0., 1.],\n",
       "       [0., 1., 0.],\n",
       "       [1., 0., 0.]])"
      ]
     },
     "execution_count": 73,
     "metadata": {},
     "output_type": "execute_result"
    }
   ],
   "source": [
    "location_encoded1"
   ]
  },
  {
   "cell_type": "code",
   "execution_count": 74,
   "metadata": {},
   "outputs": [],
   "source": [
    "# LabelEncoder 사용\n",
    "label_encoder = LabelEncoder()\n",
    "location_encoded2 = label_encoder.fit_transform(df['지역'])"
   ]
  },
  {
   "cell_type": "code",
   "execution_count": 75,
   "metadata": {},
   "outputs": [],
   "source": [
    "location_encoded2   #1차원 배열임\n",
    "# 뒤에서 합쳐주려면 2차원으로 변경해야함 \n",
    "\n",
    "location_encoded2 = location_encoded2.reshape(-1,1)\n"
   ]
  },
  {
   "cell_type": "code",
   "execution_count": 76,
   "metadata": {},
   "outputs": [],
   "source": [
    "# 2. 수치형 변수 (가격, 면적) 벡터화 (정규화)\n",
    "scaler = StandardScaler()\n",
    "numeric_features = scaler.fit_transform(df[['가격', '면적']])"
   ]
  },
  {
   "cell_type": "code",
   "execution_count": 77,
   "metadata": {},
   "outputs": [
    {
     "data": {
      "text/plain": [
       "array([[ 1.01600102,  1.18321596],\n",
       "       [-0.25400025, -0.16903085],\n",
       "       [-1.52400152, -1.52127766],\n",
       "       [ 0.76200076,  0.50709255]])"
      ]
     },
     "execution_count": 77,
     "metadata": {},
     "output_type": "execute_result"
    }
   ],
   "source": [
    "numeric_features"
   ]
  },
  {
   "cell_type": "code",
   "execution_count": 78,
   "metadata": {},
   "outputs": [],
   "source": [
    "# 3. 텍스트 변수 (설명) 벡터화 (TF-IDF)\n",
    "tfidf = TfidfVectorizer()\n",
    "tfidf_matrix = tfidf.fit_transform(df['설명']).toarray()"
   ]
  },
  {
   "cell_type": "code",
   "execution_count": 79,
   "metadata": {},
   "outputs": [
    {
     "data": {
      "text/plain": [
       "(4, 8)"
      ]
     },
     "execution_count": 79,
     "metadata": {},
     "output_type": "execute_result"
    }
   ],
   "source": [
    "tfidf_matrix.shape"
   ]
  },
  {
   "cell_type": "code",
   "execution_count": 80,
   "metadata": {},
   "outputs": [
    {
     "name": "stdout",
     "output_type": "stream",
     "text": [
      "[[ 0.          1.01600102  1.18321596  0.          0.64450299  0.\n",
      "   0.41137791  0.          0.          0.64450299  0.        ]\n",
      " [ 2.         -0.25400025 -0.16903085  0.57735027  0.          0.\n",
      "   0.          0.          0.57735027  0.          0.57735027]\n",
      " [ 1.         -1.52400152 -1.52127766  0.          0.          0.\n",
      "   0.53802897  0.84292635  0.          0.          0.        ]\n",
      " [ 0.          0.76200076  0.50709255  0.          0.          0.84292635\n",
      "   0.53802897  0.          0.          0.          0.        ]]\n",
      "(4, 11)\n"
     ]
    }
   ],
   "source": [
    "# 4. 모든 변수를 결합하여 하나의 벡터로\n",
    "import numpy as np\n",
    "final_matrix = np.hstack((location_encoded2, numeric_features, tfidf_matrix))\n",
    "#location_encoded(3개)/numeric_features(2개)/tfidf_matrix(7개) 총 12\n",
    "\n",
    "print(final_matrix)\n",
    "print(final_matrix.shape)"
   ]
  },
  {
   "cell_type": "code",
   "execution_count": 81,
   "metadata": {},
   "outputs": [
    {
     "data": {
      "text/plain": [
       "array([[ 0.        ,  1.01600102,  1.18321596,  0.        ,  0.64450299,\n",
       "         0.        ,  0.41137791,  0.        ,  0.        ,  0.64450299,\n",
       "         0.        ],\n",
       "       [ 2.        , -0.25400025, -0.16903085,  0.57735027,  0.        ,\n",
       "         0.        ,  0.        ,  0.        ,  0.57735027,  0.        ,\n",
       "         0.57735027],\n",
       "       [ 1.        , -1.52400152, -1.52127766,  0.        ,  0.        ,\n",
       "         0.        ,  0.53802897,  0.84292635,  0.        ,  0.        ,\n",
       "         0.        ],\n",
       "       [ 0.        ,  0.76200076,  0.50709255,  0.        ,  0.        ,\n",
       "         0.84292635,  0.53802897,  0.        ,  0.        ,  0.        ,\n",
       "         0.        ]])"
      ]
     },
     "execution_count": 81,
     "metadata": {},
     "output_type": "execute_result"
    }
   ],
   "source": [
    "final_matrix"
   ]
  },
  {
   "cell_type": "code",
   "execution_count": 82,
   "metadata": {},
   "outputs": [],
   "source": [
    "from sklearn.metrics.pairwise import cosine_similarity"
   ]
  },
  {
   "cell_type": "code",
   "execution_count": 83,
   "metadata": {},
   "outputs": [],
   "source": [
    "# 매물 간 유사도 계산\n",
    "similarity_matrix = cosine_similarity(final_matrix)"
   ]
  },
  {
   "cell_type": "code",
   "execution_count": 84,
   "metadata": {},
   "outputs": [
    {
     "name": "stdout",
     "output_type": "stream",
     "text": [
      "[[ 1.         -0.10955851 -0.65518487  0.63528181]\n",
      " [-0.10955851  1.          0.45480864 -0.09127979]\n",
      " [-0.65518487  0.45480864  1.         -0.4705142 ]\n",
      " [ 0.63528181 -0.09127979 -0.4705142   1.        ]]\n"
     ]
    }
   ],
   "source": [
    "# 유사도 행렬 출력\n",
    "print(similarity_matrix)"
   ]
  },
  {
   "cell_type": "code",
   "execution_count": 85,
   "metadata": {},
   "outputs": [
    {
     "data": {
      "text/plain": [
       "[(0, 1.0),\n",
       " (1, -0.10955850876091178),\n",
       " (2, -0.6551848680889083),\n",
       " (3, 0.6352818146321013)]"
      ]
     },
     "execution_count": 85,
     "metadata": {},
     "output_type": "execute_result"
    }
   ],
   "source": [
    "# 0번째 매물과 가장 유사한 매물 3개 추천 (자기 자신 제외)\n",
    "similarity_scores = list(enumerate(similarity_matrix[0]))\n",
    "# 지금은 0번째 매물이라고 했지만 \n",
    "# 매물 아이디값? 을 직접 넣어주도록 함수의매개변수로 지정 \n",
    "similarity_scores"
   ]
  },
  {
   "cell_type": "code",
   "execution_count": 86,
   "metadata": {},
   "outputs": [],
   "source": [
    "# 유사도 점수를 기준으로 내림차순 정렬\n",
    "sorted_scores = sorted(similarity_scores, key=lambda x: x[1], reverse=True)"
   ]
  },
  {
   "cell_type": "code",
   "execution_count": 87,
   "metadata": {},
   "outputs": [
    {
     "name": "stdout",
     "output_type": "stream",
     "text": [
      "\n",
      "0번째 매물과 유사한 상위 3개 매물:\n",
      " [(3, 0.6352818146321013), (1, -0.10955850876091178), (2, -0.6551848680889083)]\n"
     ]
    }
   ],
   "source": [
    "# 상위 3개의 유사한 매물 출력 (자기 자신 제외)\n",
    "top_similar_properties = sorted_scores[1:4]\n",
    "top_similar_properties\n",
    "print(\"\\n0번째 매물과 유사한 상위 3개 매물:\\n\", top_similar_properties)"
   ]
  },
  {
   "cell_type": "code",
   "execution_count": null,
   "metadata": {},
   "outputs": [],
   "source": []
  }
 ],
 "metadata": {
  "kernelspec": {
   "display_name": "PythonEx",
   "language": "python",
   "name": "python3"
  },
  "language_info": {
   "codemirror_mode": {
    "name": "ipython",
    "version": 3
   },
   "file_extension": ".py",
   "mimetype": "text/x-python",
   "name": "python",
   "nbconvert_exporter": "python",
   "pygments_lexer": "ipython3",
   "version": "3.10.14"
  }
 },
 "nbformat": 4,
 "nbformat_minor": 2
}
